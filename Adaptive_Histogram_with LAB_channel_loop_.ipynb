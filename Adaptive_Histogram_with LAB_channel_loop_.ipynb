{
  "nbformat": 4,
  "nbformat_minor": 0,
  "metadata": {
    "colab": {
      "provenance": [],
      "gpuType": "T4"
    },
    "kernelspec": {
      "name": "python3",
      "display_name": "Python 3"
    },
    "language_info": {
      "name": "python"
    },
    "accelerator": "GPU"
  },
  "cells": [
    {
      "cell_type": "code",
      "execution_count": null,
      "metadata": {
        "colab": {
          "base_uri": "https://localhost:8080/"
        },
        "id": "GmeQKVozZMPd",
        "outputId": "5170d505-a471-415d-aed2-db2a3cc3bd41"
      },
      "outputs": [
        {
          "output_type": "stream",
          "name": "stdout",
          "text": [
            "Drive already mounted at /content/drive; to attempt to forcibly remount, call drive.mount(\"/content/drive\", force_remount=True).\n"
          ]
        }
      ],
      "source": [
        "from google.colab import drive\n",
        "drive.mount('/content/drive')"
      ]
    },
    {
      "cell_type": "code",
      "source": [
        "import cv2\n",
        "import numpy as np\n",
        "from matplotlib import pyplot as plt\n",
        "import os"
      ],
      "metadata": {
        "id": "8lrEjh5nZP1W"
      },
      "execution_count": null,
      "outputs": []
    },
    {
      "cell_type": "code",
      "source": [
        "from skimage import io, img_as_float\n",
        "from skimage.restoration import denoise_nl_means, estimate_sigma\n",
        "from skimage.metrics import peak_signal_noise_ratio\n",
        "from skimage.util import random_noise"
      ],
      "metadata": {
        "id": "y-4gt2XQOqjJ"
      },
      "execution_count": null,
      "outputs": []
    },
    {
      "cell_type": "code",
      "source": [
        "# Specify the folder path containing the original images\n",
        "folder_path = '/content/drive/MyDrive/demo/normal-pre-processing.test/'\n",
        "\n",
        "# Specify the folder path to save the updated images\n",
        "save_folder_path = '/content/drive/MyDrive/demo/AHE'"
      ],
      "metadata": {
        "id": "GqtzRouBZW_c"
      },
      "execution_count": null,
      "outputs": []
    },
    {
      "cell_type": "code",
      "source": [
        "# Iterate over the files in the folder\n",
        "for filename in os.listdir(folder_path):\n",
        "    if filename.endswith('.png') or filename.endswith('.jpg'):\n",
        "        # Read the original image\n",
        "        image_path = os.path.join(folder_path, filename)\n",
        "        f = cv2.imread(image_path, 1)\n",
        "\n",
        "        # Calculate and plot the histogram of the original image\n",
        "        hist, bins = np.histogram(f.flatten(), bins=256, range=[0, 256])\n",
        "        cdf = hist.cumsum()\n",
        "        cdf_normalized = cdf / cdf.max()\n",
        "\n",
        "        fig, ax = plt.subplots(figsize=(5, 5))\n",
        "        ax.hist(f.flatten(), bins=256, range=[0, 256], color='r')\n",
        "        ax.set_xlabel('pixel intensity')\n",
        "        ax.set_ylabel('#pixels')\n",
        "        ax.set_xlim(0, 255)\n",
        "\n",
        "        ax2 = ax.twinx()\n",
        "        ax2.plot(cdf_normalized, color='b')\n",
        "        ax2.set_ylabel('cdf')\n",
        "        ax2.set_ylim(0, 1)\n",
        "\n",
        "        # Save the plot as an image in the specified directory\n",
        "        hist_image_path = os.path.join(save_folder_path, filename + '_hist.png')\n",
        "        plt.savefig(hist_image_path)\n",
        "        plt.close()\n",
        "        lab_img= cv2.cvtColor(f, cv2.COLOR_BGR2LAB)\n",
        "        l, a, b = cv2.split(lab_img)\n",
        "\n",
        "        # Perform histogram equalization (global)\n",
        "        equ = cv2.equalizeHist(l)\n",
        "\n",
        "        # Calculate and plot the histogram of the equalized image\n",
        "        hist, bins = np.histogram(equ.flatten(), bins=256, range=[0, 256])\n",
        "        cdf = hist.cumsum()\n",
        "        cdf_normalized = cdf / cdf.max()\n",
        "\n",
        "        fig, ax = plt.subplots(figsize=(5, 5))\n",
        "        ax.hist(equ.flatten(), bins=256, range=[0, 256], color='r')\n",
        "        ax.set_xlabel('pixel intensity')\n",
        "        ax.set_ylabel('#pixels')\n",
        "        ax.set_xlim(0, 255)\n",
        "\n",
        "        ax2 = ax.twinx()\n",
        "        ax2.plot(cdf_normalized, color='b')\n",
        "        ax2.set_ylabel('cdf')\n",
        "        ax2.set_ylim(0, 1)\n",
        "\n",
        "        # Save the plot as an image in the specified directory\n",
        "        equ_image_path = os.path.join(save_folder_path, filename + '_equ.png')\n",
        "        plt.savefig(equ_image_path)\n",
        "        plt.close()\n",
        "\n",
        "        # Save the equalized image in the specified directory\n",
        "        cv2.imwrite(os.path.join(save_folder_path, filename), equ)"
      ],
      "metadata": {
        "id": "_p_rMAEwZXQR"
      },
      "execution_count": null,
      "outputs": []
    },
    {
      "cell_type": "code",
      "source": [
        "# Iterate over the files in the folder\n",
        "for filename in os.listdir(folder_path):\n",
        "    if filename.endswith('.png') or filename.endswith('.jpg'):\n",
        "        # Read the original image\n",
        "        image_path = os.path.join(folder_path, filename)\n",
        "        f = cv2.imread(image_path, 0)\n",
        "\n",
        "        # Calculate and plot the histogram of the original image\n",
        "        hist, bins = np.histogram(f.flatten(), bins=256, range=[0, 256])\n",
        "        cdf = hist.cumsum()\n",
        "        cdf_normalized = cdf / cdf.max()\n",
        "\n",
        "        fig, ax = plt.subplots(figsize=(5, 5))\n",
        "        ax.hist(f.flatten(), bins=256, range=[0, 256], color='r')\n",
        "        ax.set_xlabel('pixel intensity')\n",
        "        ax.set_ylabel('#pixels')\n",
        "        ax.set_xlim(0, 255)\n",
        "\n",
        "        ax2 = ax.twinx()\n",
        "        ax2.plot(cdf_normalized, color='b')\n",
        "        ax2.set_ylabel('cdf')\n",
        "        ax2.set_ylim(0, 1)\n",
        "\n",
        "        # Save the plot as an image in the specified directory\n",
        "        hist_image_path = os.path.join(save_folder_path, filename + '_hist.png')\n",
        "        plt.savefig(hist_image_path)\n",
        "        plt.close()\n",
        "\n",
        "        # Perform histogram equalization (global)\n",
        "        equ = cv2.equalizeHist(f)\n",
        "\n",
        "        # Calculate and plot the histogram of the equalized image\n",
        "        hist, bins = np.histogram(equ.flatten(), bins=256, range=[0, 256])\n",
        "        cdf = hist.cumsum()\n",
        "        cdf_normalized = cdf / cdf.max()\n",
        "\n",
        "        fig, ax = plt.subplots(figsize=(5, 5))\n",
        "        ax.hist(equ.flatten(), bins=256, range=[0, 256], color='r')\n",
        "        ax.set_xlabel('pixel intensity')\n",
        "        ax.set_ylabel('#pixels')\n",
        "        ax.set_xlim(0, 255)\n",
        "\n",
        "        ax2 = ax.twinx()\n",
        "        ax2.plot(cdf_normalized, color='b')\n",
        "        ax2.set_ylabel('cdf')\n",
        "        ax2.set_ylim(0, 1)\n",
        "\n",
        "        # Save the plot as an image in the specified directory\n",
        "        equ_image_path = os.path.join(save_folder_path, filename + '_equ.png')\n",
        "        plt.savefig(equ_image_path)\n",
        "        plt.close()\n",
        "\n",
        "        # Save the equalized image in the specified directory\n",
        "        cv2.imwrite(os.path.join(save_folder_path, filename), equ)"
      ],
      "metadata": {
        "id": "IGJvOovBZXMn"
      },
      "execution_count": null,
      "outputs": []
    },
    {
      "cell_type": "code",
      "source": [],
      "metadata": {
        "id": "FlT0thfPZP9G"
      },
      "execution_count": null,
      "outputs": []
    }
  ]
}