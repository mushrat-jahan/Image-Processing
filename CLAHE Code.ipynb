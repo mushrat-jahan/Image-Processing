{
  "cells": [
    {
      "cell_type": "code",
      "execution_count": null,
      "metadata": {
        "id": "amdQQ1vEsjpY"
      },
      "outputs": [],
      "source": [
        "#Contrast limited adaptive histogram equalization (CLAHE)\n",
        "import os\n",
        "from os import listdir\n",
        "from os.path import isfile, join\n",
        "import numpy as np\n",
        "import cv2\n",
        "from scipy import fftpack\n",
        "from PIL import Image,ImageEnhance\n",
        "import scipy.fftpack\n",
        "from skimage import data, io\n",
        "from scipy.signal import convolve2d as conv2\n",
        "\n",
        "folder1 = '/content/drive/MyDrive/Research/Dataset/input'\n",
        "\n",
        "dirr1 = '/content/drive/MyDrive/Research/CLAHE/output'\n",
        "j=1\n",
        "\n",
        "for im in os.listdir(folder1):\n",
        "    #read image\n",
        "    path = os.path.join(folder1,im)\n",
        "    img = cv2.imread(path)\n",
        "    imgg = Image.open(path)\n",
        "    lab_img= cv2.cvtColor(img, cv2.COLOR_BGR2LAB)\n",
        "    l, a, b = cv2.split(lab_img)\n",
        "    clahe = cv2.createCLAHE(clipLimit=3.0, tileGridSize=(8,8))\n",
        "    clahe_img = clahe.apply(l)\n",
        "\n",
        "    updated_lab_img2 = cv2.merge((clahe_img,a,b))\n",
        "    f5 = cv2.cvtColor(updated_lab_img2, cv2.COLOR_LAB2BGR)\n",
        "\n",
        "    cv2.imwrite(os.path.join(dirr1,str(j)+'.png'),f5)\n",
        "    j=j+1"
      ]
    },
    {
      "cell_type": "code",
      "execution_count": null,
      "metadata": {
        "id": "NBz6_56kvqHZ"
      },
      "outputs": [],
      "source": [
        "from google.colab import drive\n",
        "drive.mount('/content/drive')"
      ]
    },
    {
      "cell_type": "code",
      "execution_count": null,
      "metadata": {
        "id": "fDsenSdaslto"
      },
      "outputs": [],
      "source": [
        "import cv2\n",
        "from skimage import io\n",
        "from matplotlib import pyplot as plt\n",
        "\n",
        "img = cv2.imread(\"images/bio_low_contrast.JPG\", 1)\n",
        "\n",
        "\n",
        "lab_img= cv2.cvtColor(img, cv2.COLOR_BGR2LAB)\n",
        "\n",
        "\n",
        "l, a, b = cv2.split(lab_img)\n",
        "\n",
        "\n",
        "equ = cv2.equalizeHist(l)\n",
        "\n",
        "updated_lab_img1 = cv2.merge((equ,a,b))\n",
        "\n",
        "hist_eq_img = cv2.cvtColor(updated_lab_img1, cv2.COLOR_LAB2BGR)\n",
        "\n",
        "###########CLAHE#########################\n",
        "#Apply CLAHE to L channel\n",
        "clahe = cv2.createCLAHE(clipLimit=3.0, tileGridSize=(8,8))\n",
        "clahe_img = clahe.apply(l)\n",
        "\n",
        "updated_lab_img2 = cv2.merge((clahe_img,a,b))\n",
        "\n",
        "#Convert LAB image back to color (RGB)\n",
        "CLAHE_img = cv2.cvtColor(updated_lab_img2, cv2.COLOR_LAB2BGR)\n",
        "\n",
        "\n",
        "cv2.imshow(\"Original image\", img)\n",
        "cv2.imshow(\"Equalized image\", hist_eq_img)\n",
        "cv2.imshow('CLAHE Image', CLAHE_img)\n",
        "cv2.waitKey(0)\n",
        "cv2.destroyAllWindows()"
      ]
    }
  ],
  "metadata": {
    "colab": {
      "provenance": []
    },
    "kernelspec": {
      "display_name": "Python 3",
      "name": "python3"
    },
    "language_info": {
      "name": "python"
    }
  },
  "nbformat": 4,
  "nbformat_minor": 0
}
