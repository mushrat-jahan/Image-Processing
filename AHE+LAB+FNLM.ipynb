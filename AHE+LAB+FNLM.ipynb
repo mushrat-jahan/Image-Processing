{
 "cells": [
  {
   "cell_type": "code",
   "execution_count": 1,
   "id": "9110457d",
   "metadata": {},
   "outputs": [],
   "source": [
    "import os"
   ]
  },
  {
   "cell_type": "code",
   "execution_count": 2,
   "id": "b6393592",
   "metadata": {},
   "outputs": [
    {
     "data": {
      "text/plain": [
       "'C:\\\\Users\\\\User\\\\Desktop\\\\demo'"
      ]
     },
     "execution_count": 2,
     "metadata": {},
     "output_type": "execute_result"
    }
   ],
   "source": [
    "os.getcwd()"
   ]
  },
  {
   "cell_type": "code",
   "execution_count": 3,
   "id": "c0e9407d",
   "metadata": {},
   "outputs": [],
   "source": [
    "# Specify the folder path containing the original images\n",
    "folder_path = 'C:\\\\Users\\\\User\\\\Desktop\\\\demo\\\\Doubtful-1'\n",
    "\n",
    "# Specify the folder path to save the updated images\n",
    "save_folder_path = 'C:\\\\Users\\\\User\\\\Desktop\\demo\\\\processed'"
   ]
  },
  {
   "cell_type": "code",
   "execution_count": null,
   "id": "df7e5a6d",
   "metadata": {},
   "outputs": [
    {
     "name": "stderr",
     "output_type": "stream",
     "text": [
      "C:\\Users\\User\\AppData\\Local\\Temp\\ipykernel_11400\\455786088.py:21: RuntimeWarning: More than 20 figures have been opened. Figures created through the pyplot interface (`matplotlib.pyplot.figure`) are retained until explicitly closed and may consume too much memory. (To control this warning, see the rcParam `figure.max_open_warning`). Consider using `matplotlib.pyplot.close()`.\n",
      "  fig, ax = plt.subplots(figsize=(5, 5))\n",
      "C:\\Users\\User\\AppData\\Local\\Temp\\ipykernel_11400\\455786088.py:47: RuntimeWarning: More than 20 figures have been opened. Figures created through the pyplot interface (`matplotlib.pyplot.figure`) are retained until explicitly closed and may consume too much memory. (To control this warning, see the rcParam `figure.max_open_warning`). Consider using `matplotlib.pyplot.close()`.\n",
      "  fig, ax = plt.subplots(figsize=(5, 5))\n"
     ]
    }
   ],
   "source": [
    "import numpy as np\n",
    "import matplotlib.pyplot as plt\n",
    "import cv2\n",
    "import os\n",
    "from skimage import io, img_as_float\n",
    "from skimage.restoration import denoise_nl_means, estimate_sigma\n",
    "from skimage.util import random_noise\n",
    "\n",
    "# Iterate over the files in the folder\n",
    "for filename in os.listdir(folder_path):\n",
    "    if filename.endswith('.png') or filename.endswith('.jpg'):\n",
    "        # Read the original image\n",
    "        image_path = os.path.join(folder_path, filename)\n",
    "        f = cv2.imread(image_path, 1)\n",
    "\n",
    "        # Calculate and plot the histogram of the original image\n",
    "        hist, bins = np.histogram(f.flatten(), bins=256, range=[0, 256])\n",
    "        cdf = hist.cumsum()\n",
    "        cdf_normalized = cdf / cdf.max()\n",
    "\n",
    "        fig, ax = plt.subplots(figsize=(5, 5))\n",
    "        ax.hist(f.flatten(), bins=256, range=[0, 256], color='r')\n",
    "        ax.set_xlabel('pixel intensity')\n",
    "        ax.set_ylabel('#pixels')\n",
    "        ax.set_xlim(0, 255)\n",
    "\n",
    "        ax2 = ax.twinx()\n",
    "        ax2.plot(cdf_normalized, color='b')\n",
    "        ax2.set_ylabel('cdf')\n",
    "        ax2.set_ylim(0, 1)\n",
    "\n",
    "        # Save the plot as an image in the specified directory\n",
    "        #hist_image_path = os.path.join(save_folder_path, filename + '_hist.png')\n",
    "        #plt.savefig(hist_image_path)\n",
    "        plt.close()\n",
    "        lab_img = cv2.cvtColor(f, cv2.COLOR_BGR2LAB)\n",
    "        l, a, b = cv2.split(lab_img)\n",
    "\n",
    "        # Perform histogram equalization (global)\n",
    "        equ = cv2.equalizeHist(l)\n",
    "\n",
    "        # Calculate and plot the histogram of the equalized image\n",
    "        hist, bins = np.histogram(equ.flatten(), bins=256, range=[0, 256])\n",
    "        cdf = hist.cumsum()\n",
    "        cdf_normalized = cdf / cdf.max()\n",
    "\n",
    "        fig, ax = plt.subplots(figsize=(5, 5))\n",
    "        ax.hist(equ.flatten(), bins=256, range=[0, 256], color='r')\n",
    "        ax.set_xlabel('pixel intensity')\n",
    "        ax.set_ylabel('#pixels')\n",
    "        ax.set_xlim(0, 255)\n",
    "\n",
    "        ax2 = ax.twinx()\n",
    "        ax2.plot(cdf_normalized, color='b')\n",
    "        ax2.set_ylabel('cdf')\n",
    "        ax2.set_ylim(0, 1)\n",
    "\n",
    "        # Save the plot as an image in the specified directory\n",
    "        #equ_image_path = os.path.join(save_folder_path, filename + '_equ.png')\n",
    "        #plt.savefig(equ_image_path)\n",
    "        #plt.close()\n",
    "\n",
    "        # Perform fast non-local means denoising\n",
    "        image = img_as_float(equ, force_copy=True)\n",
    "        sigma = 0.03\n",
    "        noisy_image = random_noise(image, var=sigma ** 2)\n",
    "        sigma_est = np.mean(estimate_sigma(noisy_image))\n",
    "        patch_size = 4\n",
    "        patch_distance = 13\n",
    "        denoised_image = denoise_nl_means(noisy_image, h=0.8 * sigma_est, fast_mode=True,\n",
    "                                          patch_size=patch_size, patch_distance=patch_distance)\n",
    "\n",
    "        # Save the denoised image in the specified directory\n",
    "        denoised_image_path = os.path.join(save_folder_path, filename + '_denoised.png')\n",
    "        denoised_image = (denoised_image * 255).astype(np.uint8)\n",
    "        cv2.imwrite(denoised_image_path, denoised_image)\n"
   ]
  },
  {
   "cell_type": "code",
   "execution_count": null,
   "id": "fea5a862",
   "metadata": {},
   "outputs": [],
   "source": []
  },
  {
   "cell_type": "code",
   "execution_count": null,
   "id": "6eb59449",
   "metadata": {},
   "outputs": [],
   "source": []
  }
 ],
 "metadata": {
  "kernelspec": {
   "display_name": "Python 3 (ipykernel)",
   "language": "python",
   "name": "python3"
  },
  "language_info": {
   "codemirror_mode": {
    "name": "ipython",
    "version": 3
   },
   "file_extension": ".py",
   "mimetype": "text/x-python",
   "name": "python",
   "nbconvert_exporter": "python",
   "pygments_lexer": "ipython3",
   "version": "3.10.11"
  }
 },
 "nbformat": 4,
 "nbformat_minor": 5
}
