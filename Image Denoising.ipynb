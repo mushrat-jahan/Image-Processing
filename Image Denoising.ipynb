{
 "cells": [
  {
   "cell_type": "code",
   "execution_count": null,
   "id": "8425c63c",
   "metadata": {},
   "outputs": [
    {
     "name": "stderr",
     "output_type": "stream",
     "text": [
      "C:\\Users\\DCL\\anaconda3\\Lib\\site-packages\\skimage\\io\\_plugins\\matplotlib_plugin.py:162: UserWarning: The figure layout has changed to tight\n",
      "  ax.get_figure().tight_layout()\n"
     ]
    }
   ],
   "source": [
    "import os\n",
    "# from PIL import Image\n",
    "from skimage import io, color, restoration\n",
    "# import imageio\n",
    "\n",
    "input_folder =\"D:\\\\Research\\\\Journal\\\\quanrum\\\\dataset\\\\PNEUMONIA\"\n",
    "output_folder =\"D:\\\\Research\\\\Journal\\\\quanrum\\\\PP-dataset\\\\New folder\"\n",
    "\n",
    "# Create the output folder if it does not exist\n",
    "if not os.path.exists(output_folder):\n",
    "    os.makedirs(output_folder)\n",
    "\n",
    "# Iterate through the files in the input folder\n",
    "for filename in os.listdir(input_folder):\n",
    "    # Check if the file is an image\n",
    "    if filename.lower().endswith(('.png', '.jpg', '.jpeg')):\n",
    "        # Read the image\n",
    "        input_image_path = os.path.join(input_folder, filename)\n",
    "        img = io.imread(input_image_path)\n",
    "       \n",
    "\n",
    "        # Convert the image to grayscale if necessary\n",
    "        if img.ndim == 3:\n",
    "            img_gray = color.rgb2gray(img)\n",
    "        else:\n",
    "            img_gray = img\n",
    "        io.imshow(img)\n",
    "        \n",
    "        # Denoise the image using denoise_tv_chambolle\n",
    "        denoised_img = restoration.denoise_tv_chambolle(img_gray, weight=0.1)\n",
    "        io.imshow(img)\n",
    "\n",
    "        # Save the denoised image in the output folder\n",
    "        output_image_path = os.path.join(output_folder, f\"{os.path.splitext(filename)[0]}_denoised.png\")\n",
    "        io.imsave(output_image_path, (denoised_img * 255).astype('uint8'))\n",
    "\n",
    "print(\"Denoising complete!\")"
   ]
  },
  {
   "cell_type": "code",
   "execution_count": null,
   "id": "fe880456",
   "metadata": {},
   "outputs": [],
   "source": []
  }
 ],
 "metadata": {
  "kernelspec": {
   "display_name": "Python 3 (ipykernel)",
   "language": "python",
   "name": "python3"
  },
  "language_info": {
   "codemirror_mode": {
    "name": "ipython",
    "version": 3
   },
   "file_extension": ".py",
   "mimetype": "text/x-python",
   "name": "python",
   "nbconvert_exporter": "python",
   "pygments_lexer": "ipython3",
   "version": "3.11.5"
  }
 },
 "nbformat": 4,
 "nbformat_minor": 5
}
