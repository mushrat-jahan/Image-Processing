{
 "cells": [
  {
   "cell_type": "code",
   "execution_count": null,
   "id": "97a3f2c7",
   "metadata": {},
   "outputs": [],
   "source": [
    "import cv2\n",
    "import math\n",
    "import numpy as np\n",
    "import keras_ocr\n",
    "import os\n",
    "\n",
    "def midpoint(x1, y1, x2, y2):\n",
    "    x_mid = int((x1 + x2) / 2)\n",
    "    y_mid = int((y1 + y2) / 2)\n",
    "    return (x_mid, y_mid)\n",
    "\n",
    "def inpaint_text(img_path, pipeline):  # Pass the pipeline as an argument\n",
    "    img = keras_ocr.tools.read(img_path) \n",
    "    prediction_groups = pipeline.recognize([img])\n",
    "    \n",
    "    mask = np.zeros(img.shape[:2], dtype=\"uint8\")\n",
    "    for box in prediction_groups[0]:\n",
    "        x0, y0 = box[1][0]\n",
    "        x1, y1 = box[1][1] \n",
    "        x2, y2 = box[1][2]\n",
    "        x3, y3 = box[1][3]\n",
    "        \n",
    "        x_mid0, y_mid0 = midpoint(x1, y1, x2, y2)\n",
    "        x_mid1, y_mid1 = midpoint(x0, y0, x3, y3)\n",
    "        \n",
    "        thickness = int(math.sqrt((x2 - x1) ** 2 + (y2 - y1) ** 2))\n",
    "        \n",
    "        cv2.line(mask, (x_mid0, y_mid0), (x_mid1, y_mid1), 255, thickness)\n",
    "    \n",
    "    inpainted_img = cv2.inpaint(img, mask, 7, cv2.INPAINT_NS)\n",
    "             \n",
    "    return inpainted_img\n",
    "\n",
    "def main():\n",
    "    pipeline = keras_ocr.pipeline.Pipeline()\n",
    "\n",
    "\n",
    "    input_dir = \"D:\\\\Research Related Work\\\\large Dataset\\\\large dataset\\\\Xray disease\\\\Text Remove\\\\normal\"# Directory containing input images\n",
    "    output_dir =  \"D:\\\\Research Related Work\\\\large Dataset\\\\large dataset\\\\Xray disease\\\\Text Remove\\\\NRR\"# Directory to save preprocessed images\n",
    "\n",
    "    if not os.path.exists(output_dir):\n",
    "        os.makedirs(output_dir)\n",
    "\n",
    "    for filename in os.listdir(input_dir):\n",
    "        if filename.endswith(\".jpeg\") or filename.endswith(\".jpg\") or filename.endswith(\".png\"):\n",
    "            input_path = os.path.join(input_dir, filename)\n",
    "            output_path = os.path.join(output_dir, filename)\n",
    "            \n",
    "            inpainted_image = inpaint_text(input_path, pipeline)  # Pass the pipeline as an argument\n",
    "            \n",
    "            cv2.imwrite(output_path, inpainted_image)\n",
    "            \n",
    "            print(f\"Processed: {filename}\")\n",
    "\n",
    "if __name__ == '__main__':\n",
    "    main()\n"
   ]
  },
  {
   "cell_type": "code",
   "execution_count": null,
   "id": "5f58dbe1",
   "metadata": {},
   "outputs": [],
   "source": []
  }
 ],
 "metadata": {
  "kernelspec": {
   "display_name": "Python 3 (ipykernel)",
   "language": "python",
   "name": "python3"
  },
  "language_info": {
   "codemirror_mode": {
    "name": "ipython",
    "version": 3
   },
   "file_extension": ".py",
   "mimetype": "text/x-python",
   "name": "python",
   "nbconvert_exporter": "python",
   "pygments_lexer": "ipython3",
   "version": "3.10.9"
  }
 },
 "nbformat": 4,
 "nbformat_minor": 5
}
