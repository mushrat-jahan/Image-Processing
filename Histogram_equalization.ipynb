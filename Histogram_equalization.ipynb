{
  "cells": [
    {
      "cell_type": "code",
      "execution_count": null,
      "metadata": {
        "id": "VZ0P1wUTym7d"
      },
      "outputs": [],
      "source": []
    },
    {
      "cell_type": "code",
      "execution_count": null,
      "metadata": {
        "id": "85pe2r--y_KL"
      },
      "outputs": [],
      "source": [
        "\n",
        "import os\n",
        "from os import listdir\n",
        "from os.path import isfile, join\n",
        "import numpy as np\n",
        "import cv2 \n",
        "from scipy import fftpack\n",
        "from PIL import Image,ImageEnhance\n",
        "import scipy.fftpack\n",
        "from skimage import data, io\n",
        "from scipy.signal import convolve2d as conv2\n",
        "\n",
        "folder1 = '/content/drive/MyDrive/Knee work/4'\n",
        "\n",
        "dirr1 = '/content/drive/MyDrive/Knee work/Preprocess (Histogram)/4'\n",
        "j=1\n",
        "\n",
        "for im in os.listdir(folder1):\n",
        "    #read image\n",
        "    path = os.path.join(folder1,im)\n",
        "    img = cv2.imread(path)\n",
        "    #cv2.imwrite(os.path.join(dirr1,'raw '+str(j)+'.png'),img)\n",
        "    imgg = Image.open(path)\n",
        "    lab_img= cv2.cvtColor(img, cv2.COLOR_BGR2LAB)\n",
        "\n",
        "\n",
        "    l, a, b = cv2.split(lab_img)\n",
        "\n",
        "\n",
        "    equ = cv2.equalizeHist(l)\n",
        "\n",
        "\n",
        "    updated_lab_img1 = cv2.merge((equ,a,b))\n",
        "    f5 = cv2.cvtColor(updated_lab_img1, cv2.COLOR_LAB2BGR)\n",
        "    #f5 = img[160:300,1503:2003]\n",
        "    cv2.imwrite(os.path.join(dirr1,str(j)+'.png'),f5)\n",
        "    j=j+1"
      ]
    },
    {
      "cell_type": "code",
      "execution_count": null,
      "metadata": {
        "colab": {
          "base_uri": "https://localhost:8080/"
        },
        "id": "-VgMymDrY6o6",
        "outputId": "15794b14-3065-47ba-cc8b-68fc9742d178"
      },
      "outputs": [
        {
          "name": "stdout",
          "output_type": "stream",
          "text": [
            "Drive already mounted at /content/drive; to attempt to forcibly remount, call drive.mount(\"/content/drive\", force_remount=True).\n"
          ]
        }
      ],
      "source": [
        "from google.colab import drive\n",
        "drive.mount('/content/drive')"
      ]
    },
    {
      "cell_type": "code",
      "execution_count": null,
      "metadata": {
        "id": "SSSGeCFdy_NO"
      },
      "outputs": [],
      "source": []
    },
    {
      "cell_type": "code",
      "execution_count": null,
      "metadata": {
        "id": "uN-P4o3Vy_QG"
      },
      "outputs": [],
      "source": []
    },
    {
      "cell_type": "code",
      "execution_count": null,
      "metadata": {
        "id": "_ioXfE9Zy_VZ"
      },
      "outputs": [],
      "source": []
    },
    {
      "cell_type": "code",
      "execution_count": null,
      "metadata": {
        "id": "dSKSlEfMy_Xz"
      },
      "outputs": [],
      "source": []
    },
    {
      "cell_type": "code",
      "execution_count": null,
      "metadata": {
        "id": "Gxbw9aFvy_a3"
      },
      "outputs": [],
      "source": []
    },
    {
      "cell_type": "code",
      "execution_count": null,
      "metadata": {
        "id": "BKImFUC3y_dp"
      },
      "outputs": [],
      "source": []
    }
  ],
  "metadata": {
    "colab": {
      "provenance": []
    },
    "kernelspec": {
      "display_name": "Python 3",
      "name": "python3"
    },
    "language_info": {
      "name": "python"
    }
  },
  "nbformat": 4,
  "nbformat_minor": 0
}
