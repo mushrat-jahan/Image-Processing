{
 "cells": [
  {
   "cell_type": "code",
   "execution_count": null,
   "id": "56e9c68f",
   "metadata": {},
   "outputs": [],
   "source": [
    "import numpy as np\n",
    "import matplotlib.pyplot as plt\n",
    "\n",
    "import pandas as pd\n",
    "\n",
    "import os\n",
    "import glob\n",
    "import cv2\n",
    "from PIL import Image\n",
    "from pathlib import Path\n",
    "\n",
    "from sklearn.metrics import confusion_matrix\n",
    "\n",
    "\n",
    "import matplotlib.pyplot as plt\n",
    "%matplotlib inline\n",
    "from scipy.ndimage.filters import convolve\n",
    "from skimage import filters\n",
    "from skimage import io\n",
    "from skimage.filters import median"
   ]
  },
  {
   "cell_type": "code",
   "execution_count": 5,
   "id": "71ffb822",
   "metadata": {},
   "outputs": [],
   "source": [
    "directory =\"E:\\\\skin cancer\\\\archive\\\\Combinedata\\\\malignant\"\n",
    "j=0\n",
    "for im in os.listdir(directory):\n",
    "    path = os.path.join(directory,im)\n",
    "    image = cv2.imread(path)\n",
    "    median_using_cv2 = cv2.medianBlur(image,3)\n",
    "    kernel=np.array([[0,-1,0],\n",
    "                   [-1,5,-1],\n",
    "                   [0,-1,0]])\n",
    "    new_img=cv2.filter2D(median_using_cv2,-1,kernel)\n",
    "    cv2.imwrite(os.path.join(\"E:\\\\skin cancer\\\\archive\\\\MSMalignant\",'MSM '+str(j)+'.jpg'),new_img)\n",
    "    j = j+1"
   ]
  },
  {
   "cell_type": "code",
   "execution_count": 3,
   "id": "ea4a7102",
   "metadata": {},
   "outputs": [],
   "source": [
    "directory =\"D:\\\\Research Related Work\\\\large Dataset\\\\large dataset\\\\Xray disease\\\\Clahe\\\\New folder\"\n",
    "j=100\n",
    "for im in os.listdir(directory):\n",
    "    path = os.path.join(directory,im)\n",
    "    image = cv2.imread(path)\n",
    "    median_using_cv2 = cv2.medianBlur(image,3)\n",
    "    \n",
    "    cv2.imwrite(os.path.join(\"D:\\\\Research Related Work\\\\large Dataset\\\\large dataset\\\\Xray disease\\\\Clahe\\\\New folder (2)\",'COVID_denoised'+str(j)+'.png'),median_using_cv2)\n",
    "    j = j+1"
   ]
  },
  {
   "cell_type": "code",
   "execution_count": null,
   "id": "1a70fcff",
   "metadata": {},
   "outputs": [],
   "source": []
  }
 ],
 "metadata": {
  "kernelspec": {
   "display_name": "Python 3 (ipykernel)",
   "language": "python",
   "name": "python3"
  },
  "language_info": {
   "codemirror_mode": {
    "name": "ipython",
    "version": 3
   },
   "file_extension": ".py",
   "mimetype": "text/x-python",
   "name": "python",
   "nbconvert_exporter": "python",
   "pygments_lexer": "ipython3",
   "version": "3.10.9"
  }
 },
 "nbformat": 4,
 "nbformat_minor": 5
}
