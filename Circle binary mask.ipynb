{
 "cells": [
  {
   "cell_type": "markdown",
   "id": "equipped-sympathy",
   "metadata": {},
   "source": [
    "# Circle binary mask"
   ]
  },
  {
   "cell_type": "code",
   "execution_count": 5,
   "id": "6857764d",
   "metadata": {},
   "outputs": [
    {
     "data": {
      "image/png": "[encoded data removed]",
      "text/plain": [
       "<Figure size 432x288 with 1 Axes>"
      ]
     },
     "metadata": {
      "needs_background": "light"
     },
     "output_type": "display_data"
    }
   ],
   "source": [
    "import numpy as np\n",
    "import matplotlib.pyplot as plt\n",
    "\n",
    "# Define the size of the image and the circle parameters\n",
    "image_size = (200, 200)  # Adjust this to your desired image size\n",
    "center = (60, 60)        # Center coordinates of the circle\n",
    "radius = 40              # Radius of the circle\n",
    "\n",
    "# Create a blank image with all zeros\n",
    "binary_mask = np.zeros(image_size, dtype=np.uint8)\n",
    "\n",
    "# Create a grid of coordinates\n",
    "y, x = np.ogrid[:image_size[0], :image_size[1]]\n",
    "\n",
    "# Use the circle equation to set pixels within the circle to 1\n",
    "circle_mask = (x - center[0])**2 + (y - center[1])**2 <= radius**2\n",
    "\n",
    "# Set the corresponding pixels to 1 in the binary mask\n",
    "binary_mask[circle_mask] = 1\n",
    "\n",
    "# Display the binary mask\n",
    "plt.imshow(binary_mask, cmap='gray')\n",
    "plt.show()"
   ]
  },
  {
   "cell_type": "code",
   "execution_count": null,
   "id": "098f9998",
   "metadata": {},
   "outputs": [],
   "source": []
  }
 ],
 "metadata": {
  "kernelspec": {
   "display_name": "Python 3",
   "language": "python",
   "name": "python3"
  },
  "language_info": {
   "codemirror_mode": {
    "name": "ipython",
    "version": 3
   },
   "file_extension": ".py",
   "mimetype": "text/x-python",
   "name": "python",
   "nbconvert_exporter": "python",
   "pygments_lexer": "ipython3",
   "version": "3.9.4"
  }
 },
 "nbformat": 4,
 "nbformat_minor": 5
}
